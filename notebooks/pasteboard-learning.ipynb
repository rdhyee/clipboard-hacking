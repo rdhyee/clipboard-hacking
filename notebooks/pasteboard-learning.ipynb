{
 "cells": [
  {
   "cell_type": "markdown",
   "metadata": {},
   "source": [
    "[tobywf/pasteboard: Pasteboard - Python interface for NSPasteboard (macOS clipboard)](https://github.com/tobywf/pasteboard)"
   ]
  },
  {
   "cell_type": "code",
   "execution_count": 36,
   "metadata": {},
   "outputs": [],
   "source": [
    "# formats that are supported\n",
    "\n",
    "import pasteboard\n",
    "import pypandoc\n",
    "\n",
    "STRING_TYPES = (pasteboard.String, pasteboard.RTF, pasteboard.HTML, pasteboard.TabularText)\n",
    "BINARY_TYPES = (pasteboard.PDF, pasteboard.PNG, pasteboard.TIFF)\n",
    "\n",
    "def pb_contents():\n",
    "    \n",
    "    pb = pasteboard.Pasteboard()\n",
    "    contents = {}\n",
    "    \n",
    "    for t in STRING_TYPES + BINARY_TYPES:\n",
    "        content = pb.get_contents(type=t)\n",
    "        if content:\n",
    "            contents[t] = content\n",
    "        \n",
    "    return contents\n",
    "\n",
    "\n",
    "def pb_md_to_html(md=None):\n",
    "    \"\"\"\n",
    "    if there is string content on the clipboard, convert it to HTML and place it on clipboard\n",
    "    optionally, pass in the markdown instead of reading text from the clipboard\n",
    "    \"\"\"\n",
    "\n",
    "    pb = pasteboard.Pasteboard()\n",
    "\n",
    "    if md is None:\n",
    "        content = pb.get_contents(type=pasteboard.String)\n",
    "    else:\n",
    "        content = md\n",
    "\n",
    "    if content:\n",
    "        html = pypandoc.convert_text(\n",
    "            content, 'html', \n",
    "            format='markdown+task_lists+backtick_code_blocks'\n",
    "        )\n",
    "\n",
    "        # extra_args=['-s']\n",
    "        result = pb.set_contents(html, type=pasteboard.HTML)\n",
    "        return (result, content, pb.get_contents(type=pasteboard.HTML))\n",
    "    else:\n",
    "        return (False, content, '')\n",
    "\n",
    "\n",
    "def pb_html_to_md(html=None):\n",
    "    pb = pasteboard.Pasteboard()\n",
    "\n",
    "    if html is None:\n",
    "        content = pb.get_contents(type=pasteboard.HTML)\n",
    "    else:\n",
    "        content = html\n",
    "\n",
    "    if content:\n",
    "        md = pypandoc.convert_text(\n",
    "            content, 'markdown+backtick_code_blocks-header_attributes-link_attributes-native_divs-native_spans', \n",
    "            format='html',\n",
    "            extra_args=['--atx-headers']\n",
    "        )\n",
    "\n",
    "        result = pb.set_contents(md, type=pasteboard.String)\n",
    "        return (result, content, pb.get_contents(type=pasteboard.String))\n",
    "    else:\n",
    "        return (False, content, '')\n"
   ]
  },
  {
   "cell_type": "code",
   "execution_count": 34,
   "metadata": {},
   "outputs": [
    {
     "data": {
      "text/plain": [
       "(True, '+backtick_code_blocks', '<p>+backtick_code_blocks</p>\\n')"
      ]
     },
     "execution_count": 34,
     "metadata": {},
     "output_type": "execute_result"
    }
   ],
   "source": [
    "pb_md_to_html()"
   ]
  },
  {
   "cell_type": "code",
   "execution_count": 38,
   "metadata": {},
   "outputs": [
    {
     "data": {
      "text/plain": [
       "(True,\n",
       " '<meta charset=\\'utf-8\\'><h1 class=\"line\" data-line=\"0\" style=\"-webkit-tap-highlight-color: rgba(0, 0, 0, 0); box-sizing: border-box; font-style: normal; font-variant-ligatures: normal; font-variant-caps: normal; font-variant-numeric: ; font-stretch: ; font-size: 35.3925px; line-height: ; font-family: ; margin: 0.5em 0px 0.25em; font-weight: 400; color: rgb(0, 0, 0); letter-spacing: normal; orphans: 2; text-align: start; text-indent: 0px; text-transform: none; white-space: normal; widows: 2; word-spacing: 0px; -webkit-text-stroke-width: 0px; text-decoration-style: initial; text-decoration-color: initial;\">Daily Goals</h1><h1 class=\"line\" data-line=\"2\" style=\"-webkit-tap-highlight-color: rgba(0, 0, 0, 0); box-sizing: border-box; font-style: normal; font-variant-ligatures: normal; font-variant-caps: normal; font-variant-numeric: ; font-stretch: ; font-size: 35.3925px; line-height: ; font-family: ; margin: 0.5em 0px 0.25em; font-weight: 400; color: rgb(0, 0, 0); letter-spacing: normal; orphans: 2; text-align: start; text-indent: 0px; text-transform: none; white-space: normal; widows: 2; word-spacing: 0px; -webkit-text-stroke-width: 0px; text-decoration-style: initial; text-decoration-color: initial;\">Daily Flow</h1><h1 class=\"line\" data-line=\"4\" style=\"-webkit-tap-highlight-color: rgba(0, 0, 0, 0); box-sizing: border-box; font-style: normal; font-variant-ligatures: normal; font-variant-caps: normal; font-variant-numeric: ; font-stretch: ; font-size: 35.3925px; line-height: ; font-family: ; margin: 0.5em 0px 0.25em; font-weight: 400; color: rgb(0, 0, 0); letter-spacing: normal; orphans: 2; text-align: start; text-indent: 0px; text-transform: none; white-space: normal; widows: 2; word-spacing: 0px; -webkit-text-stroke-width: 0px; text-decoration-style: initial; text-decoration-color: initial;\">Daily Examen</h1><p class=\"line\" data-line=\"8\" style=\"-webkit-tap-highlight-color: rgba(0, 0, 0, 0); box-sizing: border-box; color: rgb(0, 0, 0); font-family: Calibri, &quot;Trebuchet MS&quot;, sans-serif; font-size: 15.73px; font-style: normal; font-variant-ligatures: normal; font-variant-caps: normal; font-weight: normal; letter-spacing: normal; orphans: 2; text-align: start; text-indent: 0px; text-transform: none; white-space: normal; widows: 2; word-spacing: 0px; -webkit-text-stroke-width: 0px; text-decoration-style: initial; text-decoration-color: initial;\">I need to call my CR to arrange specifically where to meet.</p><p class=\"line\" data-line=\"10\" style=\"-webkit-tap-highlight-color: rgba(0, 0, 0, 0); box-sizing: border-box; color: rgb(0, 0, 0); font-family: Calibri, &quot;Trebuchet MS&quot;, sans-serif; font-size: 15.73px; font-style: normal; font-variant-ligatures: normal; font-variant-caps: normal; font-weight: normal; letter-spacing: normal; orphans: 2; text-align: start; text-indent: 0px; text-transform: none; white-space: normal; widows: 2; word-spacing: 0px; -webkit-text-stroke-width: 0px; text-decoration-style: initial; text-decoration-color: initial;\">I want to write a script that translates between markdown and HTML on the clipboard and attached that functionality to keyboard shortcuts.</p><p class=\"line\" data-line=\"12\" style=\"-webkit-tap-highlight-color: rgba(0, 0, 0, 0); box-sizing: border-box; color: rgb(0, 0, 0); font-family: Calibri, &quot;Trebuchet MS&quot;, sans-serif; font-size: 15.73px; font-style: normal; font-variant-ligatures: normal; font-variant-caps: normal; font-weight: normal; letter-spacing: normal; orphans: 2; text-align: start; text-indent: 0px; text-transform: none; white-space: normal; widows: 2; word-spacing: 0px; -webkit-text-stroke-width: 0px; text-decoration-style: initial; text-decoration-color: initial;\">down the road – custom clipboard objects:<span>\\xa0</span><a href=\"https://stackoverflow.com/questions/28656562/storing-and-retrieving-a-custom-object-from-nspasteboard\" style=\"-webkit-tap-highlight-color: rgba(0, 0, 0, 0); box-sizing: border-box; color: var(--sn-stylekit-info-color);\">macos - Storing and retrieving a custom object from NSPasteBoard - Stack Overflow</a></p><p class=\"line\" data-line=\"14\" style=\"-webkit-tap-highlight-color: rgba(0, 0, 0, 0); box-sizing: border-box; color: rgb(0, 0, 0); font-family: Calibri, &quot;Trebuchet MS&quot;, sans-serif; font-size: 15.73px; font-style: normal; font-variant-ligatures: normal; font-variant-caps: normal; font-weight: normal; letter-spacing: normal; orphans: 2; text-align: start; text-indent: 0px; text-transform: none; white-space: normal; widows: 2; word-spacing: 0px; -webkit-text-stroke-width: 0px; text-decoration-style: initial; text-decoration-color: initial;\"><a href=\"https://github.com/bebraw/pypandoc/pull/41\" style=\"-webkit-tap-highlight-color: rgba(0, 0, 0, 0); box-sizing: border-box; color: var(--sn-stylekit-info-color);\">Allow Markdown extensions in input format by PhilippWendler · Pull Request #41 · bebraw/pypandoc</a></p><br class=\"Apple-interchange-newline\">',\n",
       " '# Daily Goals\\n\\n# Daily Flow\\n\\n# Daily Examen\\n\\nI need to call my CR to arrange specifically where to meet.\\n\\nI want to write a script that translates between markdown and HTML on\\nthe clipboard and attached that functionality to keyboard shortcuts.\\n\\ndown the road -- custom clipboard objects:\\xa0[macos - Storing and\\nretrieving a custom object from NSPasteBoard - Stack\\nOverflow](https://stackoverflow.com/questions/28656562/storing-and-retrieving-a-custom-object-from-nspasteboard)\\n\\n[Allow Markdown extensions in input format by PhilippWendler · Pull\\nRequest \\\\#41 ·\\nbebraw/pypandoc](https://github.com/bebraw/pypandoc/pull/41)\\n\\n\\\\\\n')"
      ]
     },
     "execution_count": 38,
     "metadata": {},
     "output_type": "execute_result"
    }
   ],
   "source": [
    "pb_html_to_md()"
   ]
  },
  {
   "cell_type": "code",
   "execution_count": 26,
   "metadata": {},
   "outputs": [
    {
     "data": {
      "text/plain": [
       "(True,\n",
       " '<a href=\"https://nytimes.com\">NY Times</a>',\n",
       " '[NY Times](https://nytimes.com)\\n')"
      ]
     },
     "execution_count": 26,
     "metadata": {},
     "output_type": "execute_result"
    }
   ],
   "source": [
    "pb_html_to_md('<a href=\"https://nytimes.com\">NY Times</a>')"
   ]
  },
  {
   "cell_type": "code",
   "execution_count": 2,
   "metadata": {},
   "outputs": [
    {
     "data": {
      "text/plain": [
       "{<PasteboardType public.utf8-plain-text>: '    pb = pasteboard.Pasteboard()\\n'}"
      ]
     },
     "execution_count": 2,
     "metadata": {},
     "output_type": "execute_result"
    }
   ],
   "source": [
    "pb_contents()"
   ]
  },
  {
   "cell_type": "code",
   "execution_count": null,
   "metadata": {},
   "outputs": [],
   "source": [
    "import pasteboard\n",
    "pb = pasteboard.Pasteboard()\n",
    "\n",
    "pb.get_contents(type=pasteboard.HTML)"
   ]
  },
  {
   "cell_type": "code",
   "execution_count": null,
   "metadata": {},
   "outputs": [],
   "source": [
    "pb.get_contents(diff=True)\n"
   ]
  },
  {
   "cell_type": "markdown",
   "metadata": {},
   "source": [
    "# richxerox"
   ]
  },
  {
   "cell_type": "code",
   "execution_count": null,
   "metadata": {},
   "outputs": [],
   "source": [
    "# https://github.com/jonathaneunice/richxerox\n",
    "\n",
    "from richxerox import *\n",
    "\n",
    "print(available()) # what kind of data is on the clipboard?\n",
    "\n",
    "print(paste())     # get data in the default format ('text')\n",
    "print(paste(format='text'))  # get text (Unicode)\n",
    "print(paste(format='rtf'))   # get RTF\n",
    "print(paste(format='html'))  # get HTML\n",
    "\n",
    "print(\"ALL CONTENTS:\\n\", pasteall())\n",
    "\n",
    "clear()\n",
    "print (\"ALL CONTENTS AFTER CLEAR:\\n\", pasteall())\n",
    "\n",
    "r = \"{\\\\rtf1\\\\ansi\\\\ansicpg1252\\\\cocoartf1187\\\\cocoasubrtf390\\n\" \\\n",
    "    \"{\\\\fonttbl\\\\f0\\\\froman\\\\fcharset0 Times-Roman;}\\n{\\\\colortbl;\" \\\n",
    "    \"\\\\red255\\\\green255\\\\blue255;}\\n\\\\deftab720\\n\\\\pard\\\\pardeftab720\" \\\n",
    "    \"\\n\\n\\\\f0\\\\fs24 \\\\cf0 This is \\n\\\\b good\\n\\\\b0 !}\"\n",
    "h = \"this is <strong>good</strong>!\"\n",
    "copy(text=\"this is good!\", html=h, rtf=r)\n",
    "\n",
    "print(\"ALL CONTENTS AFTER COPY:\\n\", pasteall())"
   ]
  },
  {
   "cell_type": "markdown",
   "metadata": {},
   "source": [
    "# pyobjc"
   ]
  },
  {
   "cell_type": "code",
   "execution_count": null,
   "metadata": {},
   "outputs": [],
   "source": [
    "# based on http://www.macdrifter.com/2011/12/python-and-the-mac-clipboard.html\n",
    "\n",
    "from Foundation import *\n",
    "from AppKit import *\n",
    "\n",
    "# Sets the clipboard to a string\n",
    "def pbcopy(s):\n",
    " pb = NSPasteboard.generalPasteboard()\n",
    " pb.declareTypes_owner_([NSStringPboardType], None)\n",
    " newStr = NSString.stringWithString_(s)\n",
    " newData = newStr.nsstring().dataUsingEncoding_(NSUTF8StringEncoding)\n",
    " pb.setData_forType_(newData, NSStringPboardType)\n",
    "\n",
    "# Gets the clipboard contents\n",
    "def pbpaste():\n",
    " pb = NSPasteboard.generalPasteboard()\n",
    " content = pb.stringForType_(NSStringPboardType)\n",
    " return content\n"
   ]
  },
  {
   "cell_type": "code",
   "execution_count": null,
   "metadata": {},
   "outputs": [],
   "source": [
    "pbpaste()"
   ]
  },
  {
   "cell_type": "markdown",
   "metadata": {},
   "source": [
    "# pypandoc\n",
    "\n",
    "https://github.com/bebraw/pypandoc"
   ]
  },
  {
   "cell_type": "code",
   "execution_count": null,
   "metadata": {},
   "outputs": [],
   "source": [
    "import pypandoc"
   ]
  },
  {
   "cell_type": "code",
   "execution_count": null,
   "metadata": {},
   "outputs": [],
   "source": [
    "print(pypandoc.get_pandoc_version())\n",
    "print(pypandoc.get_pandoc_path())\n",
    "print(pypandoc.get_pandoc_formats())"
   ]
  },
  {
   "cell_type": "code",
   "execution_count": null,
   "metadata": {},
   "outputs": [],
   "source": [
    "output = pypandoc.convert_text(\n",
    "    '<h1>Primary Heading</h1>',\n",
    "    'md', format='html',\n",
    "    extra_args=['--atx-headers'])\n",
    "\n",
    "output"
   ]
  },
  {
   "cell_type": "code",
   "execution_count": null,
   "metadata": {},
   "outputs": [],
   "source": [
    "output = pypandoc.convert_text(\n",
    "    '# Primary Heading',\n",
    "    'html', format='md',\n",
    "    extra_args=['--base-header-level=2'])\n",
    "\n",
    "output"
   ]
  },
  {
   "cell_type": "markdown",
   "metadata": {},
   "source": [
    "[ruby - How can I generate a rich text link for pbcopy - Stack Overflow](https://stackoverflow.com/questions/6095497/how-can-i-generate-a-rich-text-link-for-pbcopy)\n",
    "\n",
    "```\n",
    "echo '**foo**' | pandoc -t rtf -s | pbcopy\n",
    "```"
   ]
  },
  {
   "cell_type": "code",
   "execution_count": null,
   "metadata": {},
   "outputs": [],
   "source": [
    "pypandoc.convert_text(\n",
    "    '**foo**',\n",
    "    'rtf', format='md',\n",
    "    extra_args=['-s']\n",
    ")"
   ]
  },
  {
   "cell_type": "code",
   "execution_count": null,
   "metadata": {},
   "outputs": [],
   "source": [
    "import pasteboard\n",
    "pb = pasteboard.Pasteboard()\n",
    "\n",
    "md = \"\"\"\n",
    "* [Inbox (2) - raymond.yee@gmail.com - Gmail](https://mail.google.com/mail/u/0/#inbox)\n",
    "* [Google Calendar - Week of August 26, 2019](https://calendar.google.com/calendar/r/week)\n",
    "* [Notes · Standard Notes](https://app.standardnotes.org/)\n",
    "* [Notes 2019.08.21 | Evernote Web](https://www.evernote.com/Home.action?rememberMe=true&login=true#n=b7fbb20a-2188-4208-aed2-0cfff5c043ab&s=s1&ses=4&sh=2&sds=5&)\n",
    "* [evernote_appscript - Jupyter Notebook](http://localhost:8889/notebooks/evernote/evernote_appscript.ipynb)\n",
    "* [Virtuous and vicious circles in the data life-cycle](http://www.informationr.net/ir/24-2/paper821.html)\n",
    "* [Integrate_Contacts - Jupyter Notebook](http://localhost:8889/notebooks/raymondyee/D/Document/FamilyBridges/CRM-work/Integrate_Contacts.ipynb#)\n",
    "* [Home | Salesforce](https://cs95.lightning.force.com/lightning/page/home)\n",
    "* [Account | Salesforce](https://cs95.lightning.force.com/lightning/setup/ObjectManager/Account/FieldsAndRelationships/view)\n",
    "* [Contact | Salesforce](https://cs95.lightning.force.com/lightning/setup/ObjectManager/Contact/PageLayouts/00h0x000000Rde9AAC/view)\n",
    "\"\"\"\n",
    "html = pypandoc.convert_text(\n",
    "    md, 'html', format='md',\n",
    "    extra_args=['-s']\n",
    ")\n",
    "\n",
    "pb.set_contents(html, type=pasteboard.HTML)"
   ]
  },
  {
   "cell_type": "markdown",
   "metadata": {},
   "source": [
    "# scripting icanhazshortcuts"
   ]
  },
  {
   "cell_type": "code",
   "execution_count": 40,
   "metadata": {},
   "outputs": [],
   "source": [
    "from appscript import app, k\n",
    "import applescript\n"
   ]
  },
  {
   "cell_type": "code",
   "execution_count": 41,
   "metadata": {},
   "outputs": [
    {
     "data": {
      "text/plain": [
       "app('/Applications/iCanHazShortcut.app')"
      ]
     },
     "execution_count": 41,
     "metadata": {},
     "output_type": "execute_result"
    }
   ],
   "source": [
    "ichs = app('iCanHazShortcut')\n",
    "ichs"
   ]
  },
  {
   "cell_type": "code",
   "execution_count": 44,
   "metadata": {},
   "outputs": [
    {
     "name": "stdout",
     "output_type": "stream",
     "text": [
      "1\t1\t⌥⌘G\t\t/Users/raymondyee/bin/snguid.py\n",
      "2\t1\t⇧⌥⌘H\t\tosascript -e 'tell application \"Google Chrome\" to open location \"http://google.com\"'\n",
      "3\t1\t⇧⌘R\t\tLC_ALL=en_US.utf-8 LANG=en_US.UTF-8 /Users/raymondyee/bin/evernote_retire_selected_actions_2.py\n",
      "4\t1\t⌥⌘U\tCopy Chrome Tabs\tchrome_tabs_to_clipboard.py\n",
      "5\t1\t⇧⌘E\t\tevernote_notes_to_sublime.py\n",
      "6\t1\t⇧⌘9\tmd to html\t/Users/raymondyee/bin/clipboard.py md-to-html\n",
      "7\t1\t⇧⌘0\thtml to md\t/Users/raymondyee/bin/clipboard.py html-to-md\n",
      "\n"
     ]
    }
   ],
   "source": [
    "print(ichs.list())"
   ]
  },
  {
   "cell_type": "code",
   "execution_count": null,
   "metadata": {},
   "outputs": [],
   "source": []
  }
 ],
 "metadata": {
  "kernelspec": {
   "display_name": "Python 3 (ipykernel)",
   "language": "python",
   "name": "python3"
  },
  "language_info": {
   "codemirror_mode": {
    "name": "ipython",
    "version": 3
   },
   "file_extension": ".py",
   "mimetype": "text/x-python",
   "name": "python",
   "nbconvert_exporter": "python",
   "pygments_lexer": "ipython3",
   "version": "3.11.3"
  }
 },
 "nbformat": 4,
 "nbformat_minor": 4
}
